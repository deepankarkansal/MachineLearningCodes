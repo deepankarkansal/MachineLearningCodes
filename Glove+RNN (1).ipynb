{
  "nbformat": 4,
  "nbformat_minor": 0,
  "metadata": {
    "colab": {
      "name": "Glove+RNN.ipynb",
      "provenance": [],
      "collapsed_sections": [
        "jJpWMPrLnGBL"
      ]
    },
    "kernelspec": {
      "name": "python3",
      "display_name": "Python 3"
    },
    "accelerator": "GPU"
  },
  "cells": [
    {
      "cell_type": "code",
      "metadata": {
        "colab": {
          "base_uri": "https://localhost:8080/"
        },
        "id": "lzkUxHqe8-HC",
        "outputId": "65754e05-9540-4701-d5b9-cffb026a351f"
      },
      "source": [
        "from google.colab import drive\n",
        "drive.mount('/content/drive')"
      ],
      "execution_count": null,
      "outputs": [
        {
          "output_type": "stream",
          "text": [
            "Mounted at /content/drive\n"
          ],
          "name": "stdout"
        }
      ]
    },
    {
      "cell_type": "code",
      "metadata": {
        "id": "RIWdZoiCuHr6",
        "colab": {
          "base_uri": "https://localhost:8080/"
        },
        "outputId": "88d111d2-0581-4ee1-d6d4-9e57ed9976a3"
      },
      "source": [
        "import numpy as np\n",
        "import pandas as pd\n",
        "from math import sqrt\n",
        "import matplotlib.pyplot as plt\n",
        "import seaborn as sn\n",
        "import joblib\n",
        "import nltk\n",
        "nltk.download('stopwords')\n",
        "from nltk.tokenize import word_tokenize \n",
        "from nltk.corpus import stopwords\n",
        "stop_words = set(stopwords.words('english')) \n",
        "import warnings\n",
        "warnings.filterwarnings('ignore')\n",
        "nltk.download('punkt')\n",
        "import re\n",
        "import tensorflow as tf"
      ],
      "execution_count": null,
      "outputs": [
        {
          "output_type": "stream",
          "text": [
            "[nltk_data] Downloading package stopwords to /root/nltk_data...\n",
            "[nltk_data]   Unzipping corpora/stopwords.zip.\n",
            "[nltk_data] Downloading package punkt to /root/nltk_data...\n",
            "[nltk_data]   Unzipping tokenizers/punkt.zip.\n"
          ],
          "name": "stdout"
        }
      ]
    },
    {
      "cell_type": "code",
      "metadata": {
        "id": "Py2YLcsXw3-l"
      },
      "source": [
        "dataset = pd.read_csv('/content/drive/MyDrive/ML_Assignment6/ML_A6_Q2_data.txt', delimiter = '\\t', quoting = 3, header = None)"
      ],
      "execution_count": null,
      "outputs": []
    },
    {
      "cell_type": "code",
      "metadata": {
        "id": "HsA9ZbFAwaXh"
      },
      "source": [
        "dataset = dataset.sample(frac = 1, random_state=1).reset_index(drop = False)"
      ],
      "execution_count": null,
      "outputs": []
    },
    {
      "cell_type": "code",
      "metadata": {
        "colab": {
          "base_uri": "https://localhost:8080/",
          "height": 419
        },
        "id": "Wxg6VGWqwf1E",
        "outputId": "cb7a1017-5e98-4a23-a7cf-d1094c4eb433"
      },
      "source": [
        "dataset.drop(['index'], axis = 1)"
      ],
      "execution_count": null,
      "outputs": [
        {
          "output_type": "execute_result",
          "data": {
            "text/html": [
              "<div>\n",
              "<style scoped>\n",
              "    .dataframe tbody tr th:only-of-type {\n",
              "        vertical-align: middle;\n",
              "    }\n",
              "\n",
              "    .dataframe tbody tr th {\n",
              "        vertical-align: top;\n",
              "    }\n",
              "\n",
              "    .dataframe thead th {\n",
              "        text-align: right;\n",
              "    }\n",
              "</style>\n",
              "<table border=\"1\" class=\"dataframe\">\n",
              "  <thead>\n",
              "    <tr style=\"text-align: right;\">\n",
              "      <th></th>\n",
              "      <th>0</th>\n",
              "      <th>1</th>\n",
              "    </tr>\n",
              "  </thead>\n",
              "  <tbody>\n",
              "    <tr>\n",
              "      <th>0</th>\n",
              "      <td>By the time the film ended, I not only dislike...</td>\n",
              "      <td>0</td>\n",
              "    </tr>\n",
              "    <tr>\n",
              "      <th>1</th>\n",
              "      <td>The acting, as you'd expect from this cast, is...</td>\n",
              "      <td>1</td>\n",
              "    </tr>\n",
              "    <tr>\n",
              "      <th>2</th>\n",
              "      <td>The plot doesn't hang together at all, and the...</td>\n",
              "      <td>0</td>\n",
              "    </tr>\n",
              "    <tr>\n",
              "      <th>3</th>\n",
              "      <td>I felt as though her going to Ireland did abso...</td>\n",
              "      <td>0</td>\n",
              "    </tr>\n",
              "    <tr>\n",
              "      <th>4</th>\n",
              "      <td>If good intentions made a film great, then thi...</td>\n",
              "      <td>1</td>\n",
              "    </tr>\n",
              "    <tr>\n",
              "      <th>...</th>\n",
              "      <td>...</td>\n",
              "      <td>...</td>\n",
              "    </tr>\n",
              "    <tr>\n",
              "      <th>995</th>\n",
              "      <td>I am so tired of clichés that is just lazy wri...</td>\n",
              "      <td>0</td>\n",
              "    </tr>\n",
              "    <tr>\n",
              "      <th>996</th>\n",
              "      <td>It crackles with an unpredictable, youthful en...</td>\n",
              "      <td>0</td>\n",
              "    </tr>\n",
              "    <tr>\n",
              "      <th>997</th>\n",
              "      <td>This is one of the worst Sandra Bullock movie ...</td>\n",
              "      <td>0</td>\n",
              "    </tr>\n",
              "    <tr>\n",
              "      <th>998</th>\n",
              "      <td>It was just too horrible.</td>\n",
              "      <td>0</td>\n",
              "    </tr>\n",
              "    <tr>\n",
              "      <th>999</th>\n",
              "      <td>Buy it, play it, enjoy it, love it.</td>\n",
              "      <td>1</td>\n",
              "    </tr>\n",
              "  </tbody>\n",
              "</table>\n",
              "<p>1000 rows × 2 columns</p>\n",
              "</div>"
            ],
            "text/plain": [
              "                                                     0  1\n",
              "0    By the time the film ended, I not only dislike...  0\n",
              "1    The acting, as you'd expect from this cast, is...  1\n",
              "2    The plot doesn't hang together at all, and the...  0\n",
              "3    I felt as though her going to Ireland did abso...  0\n",
              "4    If good intentions made a film great, then thi...  1\n",
              "..                                                 ... ..\n",
              "995  I am so tired of clichés that is just lazy wri...  0\n",
              "996  It crackles with an unpredictable, youthful en...  0\n",
              "997  This is one of the worst Sandra Bullock movie ...  0\n",
              "998                        It was just too horrible.    0\n",
              "999              Buy it, play it, enjoy it, love it.    1\n",
              "\n",
              "[1000 rows x 2 columns]"
            ]
          },
          "metadata": {
            "tags": []
          },
          "execution_count": 5
        }
      ]
    },
    {
      "cell_type": "markdown",
      "metadata": {
        "id": "jJpWMPrLnGBL"
      },
      "source": [
        "# Preprocessing"
      ]
    },
    {
      "cell_type": "markdown",
      "metadata": {
        "id": "SPhIfUxh7szm"
      },
      "source": [
        "## Lower Case"
      ]
    },
    {
      "cell_type": "code",
      "metadata": {
        "id": "eALcpJ5R7sQ1"
      },
      "source": [
        "def capital_to_lower(x):\n",
        "  x=x.lower()\n",
        "  return x"
      ],
      "execution_count": null,
      "outputs": []
    },
    {
      "cell_type": "code",
      "metadata": {
        "id": "if75QaUN72pg"
      },
      "source": [
        "dataset['lowercase'] = dataset.apply(lambda row: capital_to_lower(row[0]), axis=1)"
      ],
      "execution_count": null,
      "outputs": []
    },
    {
      "cell_type": "code",
      "metadata": {
        "colab": {
          "base_uri": "https://localhost:8080/",
          "height": 419
        },
        "id": "acU5W8MDmtW1",
        "outputId": "5ad600e6-59db-4905-b547-a98d7f9184ff"
      },
      "source": [
        "dataset"
      ],
      "execution_count": null,
      "outputs": [
        {
          "output_type": "execute_result",
          "data": {
            "text/html": [
              "<div>\n",
              "<style scoped>\n",
              "    .dataframe tbody tr th:only-of-type {\n",
              "        vertical-align: middle;\n",
              "    }\n",
              "\n",
              "    .dataframe tbody tr th {\n",
              "        vertical-align: top;\n",
              "    }\n",
              "\n",
              "    .dataframe thead th {\n",
              "        text-align: right;\n",
              "    }\n",
              "</style>\n",
              "<table border=\"1\" class=\"dataframe\">\n",
              "  <thead>\n",
              "    <tr style=\"text-align: right;\">\n",
              "      <th></th>\n",
              "      <th>index</th>\n",
              "      <th>0</th>\n",
              "      <th>1</th>\n",
              "      <th>lowercase</th>\n",
              "    </tr>\n",
              "  </thead>\n",
              "  <tbody>\n",
              "    <tr>\n",
              "      <th>0</th>\n",
              "      <td>507</td>\n",
              "      <td>By the time the film ended, I not only dislike...</td>\n",
              "      <td>0</td>\n",
              "      <td>by the time the film ended, i not only dislike...</td>\n",
              "    </tr>\n",
              "    <tr>\n",
              "      <th>1</th>\n",
              "      <td>818</td>\n",
              "      <td>The acting, as you'd expect from this cast, is...</td>\n",
              "      <td>1</td>\n",
              "      <td>the acting, as you'd expect from this cast, is...</td>\n",
              "    </tr>\n",
              "    <tr>\n",
              "      <th>2</th>\n",
              "      <td>452</td>\n",
              "      <td>The plot doesn't hang together at all, and the...</td>\n",
              "      <td>0</td>\n",
              "      <td>the plot doesn't hang together at all, and the...</td>\n",
              "    </tr>\n",
              "    <tr>\n",
              "      <th>3</th>\n",
              "      <td>368</td>\n",
              "      <td>I felt as though her going to Ireland did abso...</td>\n",
              "      <td>0</td>\n",
              "      <td>i felt as though her going to ireland did abso...</td>\n",
              "    </tr>\n",
              "    <tr>\n",
              "      <th>4</th>\n",
              "      <td>242</td>\n",
              "      <td>If good intentions made a film great, then thi...</td>\n",
              "      <td>1</td>\n",
              "      <td>if good intentions made a film great, then thi...</td>\n",
              "    </tr>\n",
              "    <tr>\n",
              "      <th>...</th>\n",
              "      <td>...</td>\n",
              "      <td>...</td>\n",
              "      <td>...</td>\n",
              "      <td>...</td>\n",
              "    </tr>\n",
              "    <tr>\n",
              "      <th>995</th>\n",
              "      <td>767</td>\n",
              "      <td>I am so tired of clichés that is just lazy wri...</td>\n",
              "      <td>0</td>\n",
              "      <td>i am so tired of clichés that is just lazy wri...</td>\n",
              "    </tr>\n",
              "    <tr>\n",
              "      <th>996</th>\n",
              "      <td>72</td>\n",
              "      <td>It crackles with an unpredictable, youthful en...</td>\n",
              "      <td>0</td>\n",
              "      <td>it crackles with an unpredictable, youthful en...</td>\n",
              "    </tr>\n",
              "    <tr>\n",
              "      <th>997</th>\n",
              "      <td>908</td>\n",
              "      <td>This is one of the worst Sandra Bullock movie ...</td>\n",
              "      <td>0</td>\n",
              "      <td>this is one of the worst sandra bullock movie ...</td>\n",
              "    </tr>\n",
              "    <tr>\n",
              "      <th>998</th>\n",
              "      <td>235</td>\n",
              "      <td>It was just too horrible.</td>\n",
              "      <td>0</td>\n",
              "      <td>it was just too horrible.</td>\n",
              "    </tr>\n",
              "    <tr>\n",
              "      <th>999</th>\n",
              "      <td>37</td>\n",
              "      <td>Buy it, play it, enjoy it, love it.</td>\n",
              "      <td>1</td>\n",
              "      <td>buy it, play it, enjoy it, love it.</td>\n",
              "    </tr>\n",
              "  </tbody>\n",
              "</table>\n",
              "<p>1000 rows × 4 columns</p>\n",
              "</div>"
            ],
            "text/plain": [
              "     index  ...                                          lowercase\n",
              "0      507  ...  by the time the film ended, i not only dislike...\n",
              "1      818  ...  the acting, as you'd expect from this cast, is...\n",
              "2      452  ...  the plot doesn't hang together at all, and the...\n",
              "3      368  ...  i felt as though her going to ireland did abso...\n",
              "4      242  ...  if good intentions made a film great, then thi...\n",
              "..     ...  ...                                                ...\n",
              "995    767  ...  i am so tired of clichés that is just lazy wri...\n",
              "996     72  ...  it crackles with an unpredictable, youthful en...\n",
              "997    908  ...  this is one of the worst sandra bullock movie ...\n",
              "998    235  ...                        it was just too horrible.  \n",
              "999     37  ...              buy it, play it, enjoy it, love it.  \n",
              "\n",
              "[1000 rows x 4 columns]"
            ]
          },
          "metadata": {
            "tags": []
          },
          "execution_count": 8
        }
      ]
    },
    {
      "cell_type": "markdown",
      "metadata": {
        "id": "ZyuagrYx8Y-k"
      },
      "source": [
        "## Remove punctuations"
      ]
    },
    {
      "cell_type": "code",
      "metadata": {
        "id": "hVvkDUav8gO2"
      },
      "source": [
        "def remove_punctuation(x):\n",
        "    words=word_tokenize(x)\n",
        "    new_words = []\n",
        "    for word in words:\n",
        "        new_word = re.sub(r'[^\\w\\s]', '', word)\n",
        "        if new_word != '':\n",
        "            new_words.append(new_word)\n",
        "        \n",
        "    x=' '.join(new_words)  \n",
        "    return x"
      ],
      "execution_count": null,
      "outputs": []
    },
    {
      "cell_type": "code",
      "metadata": {
        "id": "dZBO_LCS8iF4"
      },
      "source": [
        "dataset['Rem_punc'] = dataset.apply(lambda row: remove_punctuation(row['lowercase']), axis=1)"
      ],
      "execution_count": null,
      "outputs": []
    },
    {
      "cell_type": "code",
      "metadata": {
        "colab": {
          "base_uri": "https://localhost:8080/",
          "height": 419
        },
        "id": "4_KBWFi8a_Gs",
        "outputId": "5b078c28-6d0b-4e7c-8364-1ad12f252807"
      },
      "source": [
        "dataset"
      ],
      "execution_count": null,
      "outputs": [
        {
          "output_type": "execute_result",
          "data": {
            "text/html": [
              "<div>\n",
              "<style scoped>\n",
              "    .dataframe tbody tr th:only-of-type {\n",
              "        vertical-align: middle;\n",
              "    }\n",
              "\n",
              "    .dataframe tbody tr th {\n",
              "        vertical-align: top;\n",
              "    }\n",
              "\n",
              "    .dataframe thead th {\n",
              "        text-align: right;\n",
              "    }\n",
              "</style>\n",
              "<table border=\"1\" class=\"dataframe\">\n",
              "  <thead>\n",
              "    <tr style=\"text-align: right;\">\n",
              "      <th></th>\n",
              "      <th>index</th>\n",
              "      <th>0</th>\n",
              "      <th>1</th>\n",
              "      <th>lowercase</th>\n",
              "      <th>Rem_punc</th>\n",
              "    </tr>\n",
              "  </thead>\n",
              "  <tbody>\n",
              "    <tr>\n",
              "      <th>0</th>\n",
              "      <td>507</td>\n",
              "      <td>By the time the film ended, I not only dislike...</td>\n",
              "      <td>0</td>\n",
              "      <td>by the time the film ended, i not only dislike...</td>\n",
              "      <td>by the time the film ended i not only disliked...</td>\n",
              "    </tr>\n",
              "    <tr>\n",
              "      <th>1</th>\n",
              "      <td>818</td>\n",
              "      <td>The acting, as you'd expect from this cast, is...</td>\n",
              "      <td>1</td>\n",
              "      <td>the acting, as you'd expect from this cast, is...</td>\n",
              "      <td>the acting as you d expect from this cast is t...</td>\n",
              "    </tr>\n",
              "    <tr>\n",
              "      <th>2</th>\n",
              "      <td>452</td>\n",
              "      <td>The plot doesn't hang together at all, and the...</td>\n",
              "      <td>0</td>\n",
              "      <td>the plot doesn't hang together at all, and the...</td>\n",
              "      <td>the plot does nt hang together at all and the ...</td>\n",
              "    </tr>\n",
              "    <tr>\n",
              "      <th>3</th>\n",
              "      <td>368</td>\n",
              "      <td>I felt as though her going to Ireland did abso...</td>\n",
              "      <td>0</td>\n",
              "      <td>i felt as though her going to ireland did abso...</td>\n",
              "      <td>i felt as though her going to ireland did abso...</td>\n",
              "    </tr>\n",
              "    <tr>\n",
              "      <th>4</th>\n",
              "      <td>242</td>\n",
              "      <td>If good intentions made a film great, then thi...</td>\n",
              "      <td>1</td>\n",
              "      <td>if good intentions made a film great, then thi...</td>\n",
              "      <td>if good intentions made a film great then this...</td>\n",
              "    </tr>\n",
              "    <tr>\n",
              "      <th>...</th>\n",
              "      <td>...</td>\n",
              "      <td>...</td>\n",
              "      <td>...</td>\n",
              "      <td>...</td>\n",
              "      <td>...</td>\n",
              "    </tr>\n",
              "    <tr>\n",
              "      <th>995</th>\n",
              "      <td>767</td>\n",
              "      <td>I am so tired of clichés that is just lazy wri...</td>\n",
              "      <td>0</td>\n",
              "      <td>i am so tired of clichés that is just lazy wri...</td>\n",
              "      <td>i am so tired of clichés that is just lazy wri...</td>\n",
              "    </tr>\n",
              "    <tr>\n",
              "      <th>996</th>\n",
              "      <td>72</td>\n",
              "      <td>It crackles with an unpredictable, youthful en...</td>\n",
              "      <td>0</td>\n",
              "      <td>it crackles with an unpredictable, youthful en...</td>\n",
              "      <td>it crackles with an unpredictable youthful ene...</td>\n",
              "    </tr>\n",
              "    <tr>\n",
              "      <th>997</th>\n",
              "      <td>908</td>\n",
              "      <td>This is one of the worst Sandra Bullock movie ...</td>\n",
              "      <td>0</td>\n",
              "      <td>this is one of the worst sandra bullock movie ...</td>\n",
              "      <td>this is one of the worst sandra bullock movie ...</td>\n",
              "    </tr>\n",
              "    <tr>\n",
              "      <th>998</th>\n",
              "      <td>235</td>\n",
              "      <td>It was just too horrible.</td>\n",
              "      <td>0</td>\n",
              "      <td>it was just too horrible.</td>\n",
              "      <td>it was just too horrible</td>\n",
              "    </tr>\n",
              "    <tr>\n",
              "      <th>999</th>\n",
              "      <td>37</td>\n",
              "      <td>Buy it, play it, enjoy it, love it.</td>\n",
              "      <td>1</td>\n",
              "      <td>buy it, play it, enjoy it, love it.</td>\n",
              "      <td>buy it play it enjoy it love it</td>\n",
              "    </tr>\n",
              "  </tbody>\n",
              "</table>\n",
              "<p>1000 rows × 5 columns</p>\n",
              "</div>"
            ],
            "text/plain": [
              "     index  ...                                           Rem_punc\n",
              "0      507  ...  by the time the film ended i not only disliked...\n",
              "1      818  ...  the acting as you d expect from this cast is t...\n",
              "2      452  ...  the plot does nt hang together at all and the ...\n",
              "3      368  ...  i felt as though her going to ireland did abso...\n",
              "4      242  ...  if good intentions made a film great then this...\n",
              "..     ...  ...                                                ...\n",
              "995    767  ...  i am so tired of clichés that is just lazy wri...\n",
              "996     72  ...  it crackles with an unpredictable youthful ene...\n",
              "997    908  ...  this is one of the worst sandra bullock movie ...\n",
              "998    235  ...                           it was just too horrible\n",
              "999     37  ...                    buy it play it enjoy it love it\n",
              "\n",
              "[1000 rows x 5 columns]"
            ]
          },
          "metadata": {
            "tags": []
          },
          "execution_count": 11
        }
      ]
    },
    {
      "cell_type": "markdown",
      "metadata": {
        "id": "nMLDwW7Btu_w"
      },
      "source": [
        "## Stopwords"
      ]
    },
    {
      "cell_type": "code",
      "metadata": {
        "id": "nHI7r142txwK"
      },
      "source": [
        "def rem_stopwords(x):\n",
        "  word_tokens = word_tokenize(x) \n",
        "  filtered_sentence = []   \n",
        "  for w in word_tokens: \n",
        "    if w not in stop_words: \n",
        "        filtered_sentence.append(w) \n",
        "  return filtered_sentence"
      ],
      "execution_count": null,
      "outputs": []
    },
    {
      "cell_type": "code",
      "metadata": {
        "id": "0v5jmUret8_H"
      },
      "source": [
        "dataset['Tokenized_tweets'] = dataset.apply(lambda row: rem_stopwords(row['Rem_punc']), axis=1)"
      ],
      "execution_count": null,
      "outputs": []
    },
    {
      "cell_type": "code",
      "metadata": {
        "colab": {
          "base_uri": "https://localhost:8080/",
          "height": 419
        },
        "id": "llYmGPGfzPlf",
        "outputId": "671de692-c7c9-46e7-af05-55a1ca1c72c7"
      },
      "source": [
        "dataset"
      ],
      "execution_count": null,
      "outputs": [
        {
          "output_type": "execute_result",
          "data": {
            "text/html": [
              "<div>\n",
              "<style scoped>\n",
              "    .dataframe tbody tr th:only-of-type {\n",
              "        vertical-align: middle;\n",
              "    }\n",
              "\n",
              "    .dataframe tbody tr th {\n",
              "        vertical-align: top;\n",
              "    }\n",
              "\n",
              "    .dataframe thead th {\n",
              "        text-align: right;\n",
              "    }\n",
              "</style>\n",
              "<table border=\"1\" class=\"dataframe\">\n",
              "  <thead>\n",
              "    <tr style=\"text-align: right;\">\n",
              "      <th></th>\n",
              "      <th>index</th>\n",
              "      <th>0</th>\n",
              "      <th>1</th>\n",
              "      <th>lowercase</th>\n",
              "      <th>Rem_punc</th>\n",
              "      <th>Tokenized_tweets</th>\n",
              "    </tr>\n",
              "  </thead>\n",
              "  <tbody>\n",
              "    <tr>\n",
              "      <th>0</th>\n",
              "      <td>507</td>\n",
              "      <td>By the time the film ended, I not only dislike...</td>\n",
              "      <td>0</td>\n",
              "      <td>by the time the film ended, i not only dislike...</td>\n",
              "      <td>by the time the film ended i not only disliked...</td>\n",
              "      <td>[time, film, ended, disliked, despised]</td>\n",
              "    </tr>\n",
              "    <tr>\n",
              "      <th>1</th>\n",
              "      <td>818</td>\n",
              "      <td>The acting, as you'd expect from this cast, is...</td>\n",
              "      <td>1</td>\n",
              "      <td>the acting, as you'd expect from this cast, is...</td>\n",
              "      <td>the acting as you d expect from this cast is t...</td>\n",
              "      <td>[acting, expect, cast, top, notch]</td>\n",
              "    </tr>\n",
              "    <tr>\n",
              "      <th>2</th>\n",
              "      <td>452</td>\n",
              "      <td>The plot doesn't hang together at all, and the...</td>\n",
              "      <td>0</td>\n",
              "      <td>the plot doesn't hang together at all, and the...</td>\n",
              "      <td>the plot does nt hang together at all and the ...</td>\n",
              "      <td>[plot, nt, hang, together, acting, absolutely,...</td>\n",
              "    </tr>\n",
              "    <tr>\n",
              "      <th>3</th>\n",
              "      <td>368</td>\n",
              "      <td>I felt as though her going to Ireland did abso...</td>\n",
              "      <td>0</td>\n",
              "      <td>i felt as though her going to ireland did abso...</td>\n",
              "      <td>i felt as though her going to ireland did abso...</td>\n",
              "      <td>[felt, though, going, ireland, absolutely, not...</td>\n",
              "    </tr>\n",
              "    <tr>\n",
              "      <th>4</th>\n",
              "      <td>242</td>\n",
              "      <td>If good intentions made a film great, then thi...</td>\n",
              "      <td>1</td>\n",
              "      <td>if good intentions made a film great, then thi...</td>\n",
              "      <td>if good intentions made a film great then this...</td>\n",
              "      <td>[good, intentions, made, film, great, film, mi...</td>\n",
              "    </tr>\n",
              "    <tr>\n",
              "      <th>...</th>\n",
              "      <td>...</td>\n",
              "      <td>...</td>\n",
              "      <td>...</td>\n",
              "      <td>...</td>\n",
              "      <td>...</td>\n",
              "      <td>...</td>\n",
              "    </tr>\n",
              "    <tr>\n",
              "      <th>995</th>\n",
              "      <td>767</td>\n",
              "      <td>I am so tired of clichés that is just lazy wri...</td>\n",
              "      <td>0</td>\n",
              "      <td>i am so tired of clichés that is just lazy wri...</td>\n",
              "      <td>i am so tired of clichés that is just lazy wri...</td>\n",
              "      <td>[tired, clichés, lazy, writing, come, thick, f...</td>\n",
              "    </tr>\n",
              "    <tr>\n",
              "      <th>996</th>\n",
              "      <td>72</td>\n",
              "      <td>It crackles with an unpredictable, youthful en...</td>\n",
              "      <td>0</td>\n",
              "      <td>it crackles with an unpredictable, youthful en...</td>\n",
              "      <td>it crackles with an unpredictable youthful ene...</td>\n",
              "      <td>[crackles, unpredictable, youthful, energy, ho...</td>\n",
              "    </tr>\n",
              "    <tr>\n",
              "      <th>997</th>\n",
              "      <td>908</td>\n",
              "      <td>This is one of the worst Sandra Bullock movie ...</td>\n",
              "      <td>0</td>\n",
              "      <td>this is one of the worst sandra bullock movie ...</td>\n",
              "      <td>this is one of the worst sandra bullock movie ...</td>\n",
              "      <td>[one, worst, sandra, bullock, movie, since, sp...</td>\n",
              "    </tr>\n",
              "    <tr>\n",
              "      <th>998</th>\n",
              "      <td>235</td>\n",
              "      <td>It was just too horrible.</td>\n",
              "      <td>0</td>\n",
              "      <td>it was just too horrible.</td>\n",
              "      <td>it was just too horrible</td>\n",
              "      <td>[horrible]</td>\n",
              "    </tr>\n",
              "    <tr>\n",
              "      <th>999</th>\n",
              "      <td>37</td>\n",
              "      <td>Buy it, play it, enjoy it, love it.</td>\n",
              "      <td>1</td>\n",
              "      <td>buy it, play it, enjoy it, love it.</td>\n",
              "      <td>buy it play it enjoy it love it</td>\n",
              "      <td>[buy, play, enjoy, love]</td>\n",
              "    </tr>\n",
              "  </tbody>\n",
              "</table>\n",
              "<p>1000 rows × 6 columns</p>\n",
              "</div>"
            ],
            "text/plain": [
              "     index  ...                                   Tokenized_tweets\n",
              "0      507  ...            [time, film, ended, disliked, despised]\n",
              "1      818  ...                 [acting, expect, cast, top, notch]\n",
              "2      452  ...  [plot, nt, hang, together, acting, absolutely,...\n",
              "3      368  ...  [felt, though, going, ireland, absolutely, not...\n",
              "4      242  ...  [good, intentions, made, film, great, film, mi...\n",
              "..     ...  ...                                                ...\n",
              "995    767  ...  [tired, clichés, lazy, writing, come, thick, f...\n",
              "996     72  ...  [crackles, unpredictable, youthful, energy, ho...\n",
              "997    908  ...  [one, worst, sandra, bullock, movie, since, sp...\n",
              "998    235  ...                                         [horrible]\n",
              "999     37  ...                           [buy, play, enjoy, love]\n",
              "\n",
              "[1000 rows x 6 columns]"
            ]
          },
          "metadata": {
            "tags": []
          },
          "execution_count": 14
        }
      ]
    },
    {
      "cell_type": "markdown",
      "metadata": {
        "id": "PkB_4ebk7xh_"
      },
      "source": [
        "# Glove"
      ]
    },
    {
      "cell_type": "markdown",
      "metadata": {
        "id": "fN8T1BenLJLn"
      },
      "source": [
        " Unique Words"
      ]
    },
    {
      "cell_type": "code",
      "metadata": {
        "id": "umM4DJbbLEjR"
      },
      "source": [
        "dct=dict()\n",
        "for x in dataset['Tokenized_tweets']:\n",
        "  #y=nltk.word_tokenize(x)\n",
        "  for wt in x:\n",
        "    if wt not in dct:  \n",
        "      dct[wt]=1\n",
        "    else: \n",
        "       dct[wt]+=1"
      ],
      "execution_count": null,
      "outputs": []
    },
    {
      "cell_type": "code",
      "metadata": {
        "colab": {
          "base_uri": "https://localhost:8080/"
        },
        "id": "lCHWMhW9bmBP",
        "outputId": "2b753184-7d57-47d5-9ecd-4b9980073a72"
      },
      "source": [
        "input_len=len(dct)\n",
        "input_len"
      ],
      "execution_count": null,
      "outputs": [
        {
          "output_type": "execute_result",
          "data": {
            "text/plain": [
              "2981"
            ]
          },
          "metadata": {
            "tags": []
          },
          "execution_count": 18
        }
      ]
    },
    {
      "cell_type": "code",
      "metadata": {
        "id": "71Z3xchQLe4t"
      },
      "source": [
        "# unigram_lst = dct.keys()\n",
        "# unigram_lst = list(unigram_lst)\n",
        "# len(unigram_lst)"
      ],
      "execution_count": null,
      "outputs": []
    },
    {
      "cell_type": "code",
      "metadata": {
        "id": "dYyMihX-zwpM"
      },
      "source": [
        "from keras.preprocessing.text import Tokenizer\n",
        "from keras.preprocessing.sequence import pad_sequences\n",
        "tokenizer_obj=Tokenizer(num_words=input_len)\n",
        "tokenizer_obj.fit_on_texts(list(dataset['Tokenized_tweets']))\n",
        "sequence = tokenizer_obj.texts_to_sequences(list(dataset['Tokenized_tweets']))\n",
        "wrd_index = tokenizer_obj.word_index"
      ],
      "execution_count": null,
      "outputs": []
    },
    {
      "cell_type": "markdown",
      "metadata": {
        "id": "V3biZwXLSJwu"
      },
      "source": [
        " Maximum length sentence"
      ]
    },
    {
      "cell_type": "code",
      "metadata": {
        "colab": {
          "base_uri": "https://localhost:8080/"
        },
        "id": "zC4Z_DgZ1CSH",
        "outputId": "8ed9a700-38b4-40ae-95b9-d6d7d1e10023"
      },
      "source": [
        "max_length=0\n",
        "c=0\n",
        "for x in sequence:\n",
        "  c+=1\n",
        "  if len(x)>max_length:\n",
        "    max_length=len(x)\n",
        "print(max_length)"
      ],
      "execution_count": null,
      "outputs": [
        {
          "output_type": "stream",
          "text": [
            "41\n"
          ],
          "name": "stdout"
        }
      ]
    },
    {
      "cell_type": "markdown",
      "metadata": {
        "id": "5HKYzPGVSqjb"
      },
      "source": [
        "Padding"
      ]
    },
    {
      "cell_type": "code",
      "metadata": {
        "id": "aZHhdp0v07dc"
      },
      "source": [
        "dataset_padded=pad_sequences(sequence,maxlen=max_length,padding=\"post\")"
      ],
      "execution_count": null,
      "outputs": []
    },
    {
      "cell_type": "code",
      "metadata": {
        "id": "cTmXCANP5bCT",
        "colab": {
          "base_uri": "https://localhost:8080/"
        },
        "outputId": "18fa9a16-9ea9-47e8-c9f8-e623dec837b1"
      },
      "source": [
        "dataset_padded.shape"
      ],
      "execution_count": null,
      "outputs": [
        {
          "output_type": "execute_result",
          "data": {
            "text/plain": [
              "(1000, 41)"
            ]
          },
          "metadata": {
            "tags": []
          },
          "execution_count": 23
        }
      ]
    },
    {
      "cell_type": "markdown",
      "metadata": {
        "id": "Un34nud8S3nH"
      },
      "source": [
        "Glove"
      ]
    },
    {
      "cell_type": "code",
      "metadata": {
        "id": "LIdX6l59ye5-"
      },
      "source": [
        "file = open('/content/drive/MyDrive/ML_Assignment6/glove.6B.50d.txt')"
      ],
      "execution_count": null,
      "outputs": []
    },
    {
      "cell_type": "code",
      "metadata": {
        "id": "3XLpEa0sZicB"
      },
      "source": [
        "#file = open('/content/drive/MyDrive/NLP Project/glove.42B.300d.txt')"
      ],
      "execution_count": null,
      "outputs": []
    },
    {
      "cell_type": "code",
      "metadata": {
        "id": "oqYC6HZHUeUw"
      },
      "source": [
        "model = dict()\n",
        "for line in file:\n",
        "  splitLine = line.split()\n",
        "  word = splitLine[0]\n",
        "  embedding = np.asarray(splitLine[1:], dtype='float32')\n",
        "  model[word] = embedding\n",
        "file.close()  "
      ],
      "execution_count": null,
      "outputs": []
    },
    {
      "cell_type": "markdown",
      "metadata": {
        "id": "qra7EI0VYM_g"
      },
      "source": [
        "Embedding Matrix"
      ]
    },
    {
      "cell_type": "code",
      "metadata": {
        "id": "afT3hhiwYPSz"
      },
      "source": [
        "embedding_matrix = np.random.random((input_len + 1, 50))\n",
        "for word,index in wrd_index.items():\n",
        "  vec = dct.get(word)\n",
        "  if vec is not None:\n",
        "    embedding_matrix[index] = vec"
      ],
      "execution_count": null,
      "outputs": []
    },
    {
      "cell_type": "code",
      "metadata": {
        "id": "j-pttCeTxFu5"
      },
      "source": [
        "# import joblib\n",
        "# joblib.dump(embedding_matrix,'/content/drive/MyDrive/ML_Assignment6/embedding_matrix')\n",
        "# embedding_matrix = joblib.load('/content/drive/MyDrive/ML_Assignment6/embedding_matrix')"
      ],
      "execution_count": null,
      "outputs": []
    },
    {
      "cell_type": "code",
      "metadata": {
        "id": "ZK2nXekZZD02",
        "colab": {
          "base_uri": "https://localhost:8080/"
        },
        "outputId": "e8313f63-27ba-4e51-a970-3d0751c1fed5"
      },
      "source": [
        "embedding_matrix.shape"
      ],
      "execution_count": null,
      "outputs": [
        {
          "output_type": "execute_result",
          "data": {
            "text/plain": [
              "(2982, 50)"
            ]
          },
          "metadata": {
            "tags": []
          },
          "execution_count": 29
        }
      ]
    },
    {
      "cell_type": "markdown",
      "metadata": {
        "id": "b-NAAyPb5VVK"
      },
      "source": [
        "# Train test split"
      ]
    },
    {
      "cell_type": "code",
      "metadata": {
        "id": "pCmbVFy3evSu"
      },
      "source": [
        "import numpy as np\n",
        "from sklearn.model_selection import train_test_split\n",
        "S_train, S_test, L_train, L_test = train_test_split( dataset_padded, dataset[1], test_size=0.3, random_state=42)"
      ],
      "execution_count": null,
      "outputs": []
    },
    {
      "cell_type": "markdown",
      "metadata": {
        "id": "BYVX5IVyZK8G"
      },
      "source": [
        "# RNN"
      ]
    },
    {
      "cell_type": "code",
      "metadata": {
        "id": "zNAxUgSlZH68"
      },
      "source": [
        "from tensorflow import keras\n",
        "from tensorflow.keras import layers\n",
        "from keras.models import Sequential\n",
        "from keras.initializers import Constant\n",
        "from keras.layers import LSTM, Dense, Dropout, Masking, Embedding,SimpleRNN, Activation,Bidirectional,SpatialDropout1D, MaxPooling1D, Conv1D"
      ],
      "execution_count": null,
      "outputs": []
    },
    {
      "cell_type": "code",
      "metadata": {
        "colab": {
          "base_uri": "https://localhost:8080/"
        },
        "id": "iAn3MLJxdnG3",
        "outputId": "e243d64f-72ec-4c9f-f601-1cacee82ec9c"
      },
      "source": [
        "model = keras.Sequential()\n",
        "model.add(Embedding(input_len+1, 50,input_length=max_length, weights=[embedding_matrix]))\n",
        "model.add(SimpleRNN(100, return_sequences=True))\n",
        "model.add(SimpleRNN(100, return_sequences=True))\n",
        "#model.add(layers.Flatten())\n",
        "#model.add(Dense(100, activation='relu'))\n",
        "model.add(Dense(1, activation='sigmoid'))\n",
        "print(model.summary())"
      ],
      "execution_count": null,
      "outputs": [
        {
          "output_type": "stream",
          "text": [
            "Model: \"sequential_1\"\n",
            "_________________________________________________________________\n",
            "Layer (type)                 Output Shape              Param #   \n",
            "=================================================================\n",
            "embedding_1 (Embedding)      (None, 41, 50)            149100    \n",
            "_________________________________________________________________\n",
            "simple_rnn_2 (SimpleRNN)     (None, 41, 100)           15100     \n",
            "_________________________________________________________________\n",
            "simple_rnn_3 (SimpleRNN)     (None, 41, 100)           20100     \n",
            "_________________________________________________________________\n",
            "dense_2 (Dense)              (None, 41, 1)             101       \n",
            "=================================================================\n",
            "Total params: 184,401\n",
            "Trainable params: 184,401\n",
            "Non-trainable params: 0\n",
            "_________________________________________________________________\n",
            "None\n"
          ],
          "name": "stdout"
        }
      ]
    },
    {
      "cell_type": "code",
      "metadata": {
        "colab": {
          "base_uri": "https://localhost:8080/"
        },
        "id": "bL_md2gC34TP",
        "outputId": "d84d5ad7-24e8-4372-e549-e02dfcf58f9a"
      },
      "source": [
        "loss,acc = model.evaluate(S_test,L_test)"
      ],
      "execution_count": null,
      "outputs": [
        {
          "output_type": "stream",
          "text": [
            "10/10 [==============================] - 0s 7ms/step - loss: 0.9423 - accuracy: 0.6250\n"
          ],
          "name": "stdout"
        }
      ]
    },
    {
      "cell_type": "code",
      "metadata": {
        "id": "trt58vyPAzb-"
      },
      "source": [
        "model.compile(loss = 'binary_crossentropy', optimizer='adam',metrics = ['accuracy'])\n",
        "history_b=model.fit(S_train,L_train, batch_size=64, epochs=30,validation_data=(S_test,L_test))"
      ],
      "execution_count": null,
      "outputs": []
    },
    {
      "cell_type": "code",
      "metadata": {
        "colab": {
          "base_uri": "https://localhost:8080/"
        },
        "id": "nE0WoTGpglHN",
        "outputId": "eed8e3e1-350b-4d69-c88d-065cd3b76350"
      },
      "source": [
        "#model.save('/content/drive/MyDrive/MLAssignment6/model_2.sav')"
      ],
      "execution_count": null,
      "outputs": [
        {
          "output_type": "stream",
          "text": [
            "WARNING:tensorflow:From /usr/local/lib/python3.6/dist-packages/tensorflow/python/training/tracking/tracking.py:111: Model.state_updates (from tensorflow.python.keras.engine.training) is deprecated and will be removed in a future version.\n",
            "Instructions for updating:\n",
            "This property should not be used in TensorFlow 2.0, as updates are applied automatically.\n",
            "WARNING:tensorflow:From /usr/local/lib/python3.6/dist-packages/tensorflow/python/training/tracking/tracking.py:111: Layer.updates (from tensorflow.python.keras.engine.base_layer) is deprecated and will be removed in a future version.\n",
            "Instructions for updating:\n",
            "This property should not be used in TensorFlow 2.0, as updates are applied automatically.\n",
            "INFO:tensorflow:Assets written to: /content/drive/MyDrive/MLAssignment6/model_2.sav/assets\n"
          ],
          "name": "stdout"
        }
      ]
    },
    {
      "cell_type": "code",
      "metadata": {
        "id": "k0UQKK4cgw6F"
      },
      "source": [
        "model_glove = tf.keras.models.load_model('/content/drive/My Drive/MLAssignment6/model_2.sav')"
      ],
      "execution_count": null,
      "outputs": []
    },
    {
      "cell_type": "code",
      "metadata": {
        "id": "o0Dm_xAh7fmg"
      },
      "source": [
        "#np.save('/content/drive/My Drive/MLAssignment6/glove_history.npy', model.history.history)"
      ],
      "execution_count": null,
      "outputs": []
    },
    {
      "cell_type": "code",
      "metadata": {
        "id": "xdeezmoS6etN"
      },
      "source": [
        "history_b = np.load('/content/drive/MyDrive/MLAssignment6/glove_history.npy',allow_pickle=True).item()"
      ],
      "execution_count": null,
      "outputs": []
    },
    {
      "cell_type": "code",
      "metadata": {
        "colab": {
          "base_uri": "https://localhost:8080/"
        },
        "id": "nq5krxnbhAw-",
        "outputId": "18994c9c-20cf-4511-956d-4bb224198f7a"
      },
      "source": [
        "model_glove.summary()"
      ],
      "execution_count": null,
      "outputs": [
        {
          "output_type": "stream",
          "text": [
            "Model: \"sequential_1\"\n",
            "_________________________________________________________________\n",
            "Layer (type)                 Output Shape              Param #   \n",
            "=================================================================\n",
            "embedding_1 (Embedding)      (None, 41, 50)            149100    \n",
            "_________________________________________________________________\n",
            "simple_rnn_2 (SimpleRNN)     (None, 41, 100)           15100     \n",
            "_________________________________________________________________\n",
            "simple_rnn_3 (SimpleRNN)     (None, 41, 100)           20100     \n",
            "_________________________________________________________________\n",
            "dense_2 (Dense)              (None, 41, 1)             101       \n",
            "=================================================================\n",
            "Total params: 184,401\n",
            "Trainable params: 184,401\n",
            "Non-trainable params: 0\n",
            "_________________________________________________________________\n"
          ],
          "name": "stdout"
        }
      ]
    },
    {
      "cell_type": "code",
      "metadata": {
        "colab": {
          "base_uri": "https://localhost:8080/",
          "height": 312
        },
        "id": "7F39yjODBax5",
        "outputId": "12548271-0ef0-44b0-818d-d388bd198f90"
      },
      "source": [
        "plt.figure(figsize=[6,4])\n",
        "plt.plot(history_b['accuracy'], 'cyan', linewidth=2.0)\n",
        "plt.plot(history_b['val_accuracy'], 'pink', linewidth=2.0)\n",
        "plt.legend(['Training Accuracy', 'Validation Accuracy'], fontsize=14)\n",
        "plt.xlabel('Epochs', fontsize=10)\n",
        "plt.ylabel('Accuracy', fontsize=10)\n",
        "plt.title('Accuracy Curves', fontsize=12)"
      ],
      "execution_count": null,
      "outputs": [
        {
          "output_type": "execute_result",
          "data": {
            "text/plain": [
              "Text(0.5, 1.0, 'Accuracy Curves')"
            ]
          },
          "metadata": {
            "tags": []
          },
          "execution_count": 60
        },
        {
          "output_type": "display_data",
          "data": {
            "image/png": "[encoded data removed]",
            "text/plain": [
              "<Figure size 432x288 with 1 Axes>"
            ]
          },
          "metadata": {
            "tags": [],
            "needs_background": "light"
          }
        }
      ]
    },
    {
      "cell_type": "code",
      "metadata": {
        "colab": {
          "base_uri": "https://localhost:8080/",
          "height": 312
        },
        "id": "Qv8iIuPdeMrV",
        "outputId": "afbe5432-b850-42f9-a702-edfdc3eea71f"
      },
      "source": [
        "plt.figure(figsize=[6,4])\n",
        "plt.plot(history_b['loss'], 'cyan', linewidth=2.0)\n",
        "plt.plot(history_b['val_loss'], 'pink', linewidth=2.0)\n",
        "plt.legend(['Training Loss', 'Validation Loss'], fontsize=14)\n",
        "plt.xlabel('Epochs', fontsize=10)\n",
        "plt.ylabel('Accuracy', fontsize=10)\n",
        "plt.title('Accuracy Curves', fontsize=12)"
      ],
      "execution_count": null,
      "outputs": [
        {
          "output_type": "execute_result",
          "data": {
            "text/plain": [
              "Text(0.5, 1.0, 'Accuracy Curves')"
            ]
          },
          "metadata": {
            "tags": []
          },
          "execution_count": 61
        },
        {
          "output_type": "display_data",
          "data": {
            "image/png": "[encoded data removed]",
            "text/plain": [
              "<Figure size 432x288 with 1 Axes>"
            ]
          },
          "metadata": {
            "tags": [],
            "needs_background": "light"
          }
        }
      ]
    }
  ]
}