{
  "nbformat": 4,
  "nbformat_minor": 0,
  "metadata": {
    "colab": {
      "name": "Multinomial_NB.ipynb",
      "provenance": [],
      "collapsed_sections": []
    },
    "kernelspec": {
      "name": "python3",
      "display_name": "Python 3"
    }
  },
  "cells": [
    {
      "cell_type": "code",
      "metadata": {
        "id": "Q9mOQR4ZgcTd",
        "colab": {
          "base_uri": "https://localhost:8080/"
        },
        "outputId": "bf9ab5cb-acf4-4951-f6ed-a00075855299"
      },
      "source": [
        "# from google.colab import drive\n",
        "# drive.mount('/content/drive')"
      ],
      "execution_count": null,
      "outputs": [
        {
          "output_type": "stream",
          "text": [
            "Mounted at /content/drive\n"
          ],
          "name": "stdout"
        }
      ]
    },
    {
      "cell_type": "code",
      "metadata": {
        "id": "HMKoFRUB5Jkq",
        "colab": {
          "base_uri": "https://localhost:8080/"
        },
        "outputId": "70db7ee9-60e1-4d48-ef84-8d550cb7ae6c"
      },
      "source": [
        "import numpy as np\n",
        "import pandas as pd\n",
        "import matplotlib.pyplot as plt\n",
        "import joblib\n",
        "from sklearn.metrics import accuracy_score\n",
        "from sklearn.cluster import KMeans\n",
        "from sklearn.model_selection import train_test_split\n",
        "import nltk\n",
        "nltk.download('stopwords')\n",
        "from nltk.corpus import stopwords\n",
        "from nltk.stem.porter import PorterStemmer\n",
        "from sklearn.naive_bayes import MultinomialNB as MNB"
      ],
      "execution_count": null,
      "outputs": [
        {
          "output_type": "stream",
          "text": [
            "[nltk_data] Downloading package stopwords to /root/nltk_data...\n",
            "[nltk_data]   Unzipping corpora/stopwords.zip.\n"
          ],
          "name": "stdout"
        }
      ]
    },
    {
      "cell_type": "code",
      "metadata": {
        "id": "GoKOadSU5TzM"
      },
      "source": [
        "data = pd.read_csv('/content/drive/My Drive/ML_Assignment4/yelp_labelled.txt', sep='\\t', header=None)"
      ],
      "execution_count": null,
      "outputs": []
    },
    {
      "cell_type": "code",
      "metadata": {
        "id": "T-w0vBQo7KYr",
        "colab": {
          "base_uri": "https://localhost:8080/",
          "height": 419
        },
        "outputId": "3887a6e1-7f70-448a-e5c0-6ba3b805b2f8"
      },
      "source": [
        "data"
      ],
      "execution_count": null,
      "outputs": [
        {
          "output_type": "execute_result",
          "data": {
            "text/html": [
              "<div>\n",
              "<style scoped>\n",
              "    .dataframe tbody tr th:only-of-type {\n",
              "        vertical-align: middle;\n",
              "    }\n",
              "\n",
              "    .dataframe tbody tr th {\n",
              "        vertical-align: top;\n",
              "    }\n",
              "\n",
              "    .dataframe thead th {\n",
              "        text-align: right;\n",
              "    }\n",
              "</style>\n",
              "<table border=\"1\" class=\"dataframe\">\n",
              "  <thead>\n",
              "    <tr style=\"text-align: right;\">\n",
              "      <th></th>\n",
              "      <th>0</th>\n",
              "      <th>1</th>\n",
              "    </tr>\n",
              "  </thead>\n",
              "  <tbody>\n",
              "    <tr>\n",
              "      <th>0</th>\n",
              "      <td>Wow... Loved this place.</td>\n",
              "      <td>1</td>\n",
              "    </tr>\n",
              "    <tr>\n",
              "      <th>1</th>\n",
              "      <td>Crust is not good.</td>\n",
              "      <td>0</td>\n",
              "    </tr>\n",
              "    <tr>\n",
              "      <th>2</th>\n",
              "      <td>Not tasty and the texture was just nasty.</td>\n",
              "      <td>0</td>\n",
              "    </tr>\n",
              "    <tr>\n",
              "      <th>3</th>\n",
              "      <td>Stopped by during the late May bank holiday of...</td>\n",
              "      <td>1</td>\n",
              "    </tr>\n",
              "    <tr>\n",
              "      <th>4</th>\n",
              "      <td>The selection on the menu was great and so wer...</td>\n",
              "      <td>1</td>\n",
              "    </tr>\n",
              "    <tr>\n",
              "      <th>...</th>\n",
              "      <td>...</td>\n",
              "      <td>...</td>\n",
              "    </tr>\n",
              "    <tr>\n",
              "      <th>995</th>\n",
              "      <td>I think food should have flavor and texture an...</td>\n",
              "      <td>0</td>\n",
              "    </tr>\n",
              "    <tr>\n",
              "      <th>996</th>\n",
              "      <td>Appetite instantly gone.</td>\n",
              "      <td>0</td>\n",
              "    </tr>\n",
              "    <tr>\n",
              "      <th>997</th>\n",
              "      <td>Overall I was not impressed and would not go b...</td>\n",
              "      <td>0</td>\n",
              "    </tr>\n",
              "    <tr>\n",
              "      <th>998</th>\n",
              "      <td>The whole experience was underwhelming, and I ...</td>\n",
              "      <td>0</td>\n",
              "    </tr>\n",
              "    <tr>\n",
              "      <th>999</th>\n",
              "      <td>Then, as if I hadn't wasted enough of my life ...</td>\n",
              "      <td>0</td>\n",
              "    </tr>\n",
              "  </tbody>\n",
              "</table>\n",
              "<p>1000 rows × 2 columns</p>\n",
              "</div>"
            ],
            "text/plain": [
              "                                                     0  1\n",
              "0                             Wow... Loved this place.  1\n",
              "1                                   Crust is not good.  0\n",
              "2            Not tasty and the texture was just nasty.  0\n",
              "3    Stopped by during the late May bank holiday of...  1\n",
              "4    The selection on the menu was great and so wer...  1\n",
              "..                                                 ... ..\n",
              "995  I think food should have flavor and texture an...  0\n",
              "996                           Appetite instantly gone.  0\n",
              "997  Overall I was not impressed and would not go b...  0\n",
              "998  The whole experience was underwhelming, and I ...  0\n",
              "999  Then, as if I hadn't wasted enough of my life ...  0\n",
              "\n",
              "[1000 rows x 2 columns]"
            ]
          },
          "metadata": {
            "tags": []
          },
          "execution_count": 4
        }
      ]
    },
    {
      "cell_type": "code",
      "metadata": {
        "id": "tvZff55L-Fm-"
      },
      "source": [
        "X = data.iloc[:,0].values\n",
        "y = data.iloc[:,-1].values"
      ],
      "execution_count": null,
      "outputs": []
    },
    {
      "cell_type": "code",
      "metadata": {
        "id": "MN3uS6ey-NQm"
      },
      "source": [
        "print(X)"
      ],
      "execution_count": null,
      "outputs": []
    },
    {
      "cell_type": "code",
      "metadata": {
        "id": "UxjOwrkfqg5c"
      },
      "source": [
        "new_X = []\n",
        "for j in range(X.size):\n",
        "  str1 = nltk.wordpunct_tokenize(X[j])\n",
        "  i = 0\n",
        "  while (i<len(str1)):\n",
        "    if (ord(str1[i][0])<65):\n",
        "      str1.remove(str1[i])\n",
        "    elif (ord(str1[i][0])>90 and ord(str1[i][0])<97):\n",
        "      str1.remove(str1[i])\n",
        "    elif (ord(str1[i][0])>122):\n",
        "      str1.remove(str1[i])\n",
        "    i+=1\n",
        "  ps = PorterStemmer()\n",
        "  all_stopwords = stopwords.words('english')\n",
        "  all_stopwords.remove('not')\n",
        "  str1 = [ps.stem(word) for word in str1 if not word in set(all_stopwords)]\n",
        "  str1 = ' '.join(str1)\n",
        "  str1 = str1.lower()\n",
        "  new_X.append(str1) "
      ],
      "execution_count": null,
      "outputs": []
    },
    {
      "cell_type": "code",
      "metadata": {
        "id": "O3yw-AHSrLG8"
      },
      "source": [
        "X = np.array(new_X)"
      ],
      "execution_count": null,
      "outputs": []
    },
    {
      "cell_type": "code",
      "metadata": {
        "id": "-FRgtNWHrZxL"
      },
      "source": [
        "print(X)"
      ],
      "execution_count": null,
      "outputs": []
    },
    {
      "cell_type": "code",
      "metadata": {
        "id": "exkJ3xBurplz",
        "colab": {
          "base_uri": "https://localhost:8080/"
        },
        "outputId": "00a7cb3d-e9f8-4f14-8fd1-fd9a4c7d4ace"
      },
      "source": [
        "print(np.unique(y))"
      ],
      "execution_count": null,
      "outputs": [
        {
          "output_type": "stream",
          "text": [
            "[0 1]\n"
          ],
          "name": "stdout"
        }
      ]
    },
    {
      "cell_type": "code",
      "metadata": {
        "id": "5XOr9Fk596Jd"
      },
      "source": [
        "X_train, X_test, y_train, y_test = train_test_split(X, y, test_size = 0.30, stratify=y)"
      ],
      "execution_count": null,
      "outputs": []
    },
    {
      "cell_type": "code",
      "metadata": {
        "id": "oyYBNFgartwP",
        "colab": {
          "base_uri": "https://localhost:8080/"
        },
        "outputId": "1f52fbd8-463e-4bc8-dda6-b34e9ab59075"
      },
      "source": [
        "X_train.shape"
      ],
      "execution_count": null,
      "outputs": [
        {
          "output_type": "execute_result",
          "data": {
            "text/plain": [
              "(700,)"
            ]
          },
          "metadata": {
            "tags": []
          },
          "execution_count": 14
        }
      ]
    },
    {
      "cell_type": "code",
      "metadata": {
        "id": "PcQh2i7ltGe8",
        "colab": {
          "base_uri": "https://localhost:8080/",
          "height": 35
        },
        "outputId": "0e497283-dcf4-4400-fa3e-9987ea91c46b"
      },
      "source": [
        "X_train[3]"
      ],
      "execution_count": null,
      "outputs": [
        {
          "output_type": "execute_result",
          "data": {
            "application/vnd.google.colaboratory.intrinsic+json": {
              "type": "string"
            },
            "text/plain": [
              "'i high hope place sinc burger cook charcoal grill unfortun tast fell flat way flat'"
            ]
          },
          "metadata": {
            "tags": []
          },
          "execution_count": 49
        }
      ]
    },
    {
      "cell_type": "code",
      "metadata": {
        "id": "u5Sxg3FLyyHv"
      },
      "source": [
        "train_dict = {'the':0}\n",
        "indx = 0\n",
        "for d in X_train:\n",
        "  d = d.split(' ')\n",
        "  for w in d:\n",
        "    try:\n",
        "      if (train_dict[w] == -1):\n",
        "        indx+=1\n",
        "    except:\n",
        "      train_dict[w] = indx\n",
        "      indx+=1"
      ],
      "execution_count": null,
      "outputs": []
    },
    {
      "cell_type": "code",
      "metadata": {
        "id": "_OG-vd0xzDgk",
        "colab": {
          "base_uri": "https://localhost:8080/"
        },
        "outputId": "275c7a99-cb74-432a-92bb-b81eb00cbddd"
      },
      "source": [
        "print(train_dict)"
      ],
      "execution_count": null,
      "outputs": [
        {
          "output_type": "stream",
          "text": [
            "{'the': 0, 'i': 0, 'love': 1, 'fri': 2, 'bean': 3, 'recommend': 4, 'unless': 5, 'car': 6, 'break': 7, 'front': 8, 'starv': 9, 'it': 10, 'busi': 11, 'know': 12, 'all': 13, 'excel': 14, 'restaur': 15, 'highlight': 16, 'great': 17, 'servic': 18, 'uniqu': 19, 'menu': 20, 'beauti': 21, 'set': 22, 'extrem': 23, 'tasti': 24, 'we': 25, 'wait': 26, 'thirti': 27, 'minut': 28, 'seat': 29, 'although': 30, 'vacant': 31, 'tabl': 32, 'folk': 33, 'salad': 34, 'wing': 35, 'ice': 36, 'cream': 37, 'dessert': 38, 'left': 39, 'feel': 40, 'quit': 41, 'satisfi': 42, 'shower': 43, 'area': 44, 'outsid': 45, 'rins': 46, 'not': 47, 'take': 48, 'full': 49, 'mind': 50, 'nude': 51, 'everyon': 52, 'see': 53, 'go': 54, 'back': 55, 'burritto': 56, 'blah': 57, 'veri': 58, 'good': 59, 'though': 60, 'stop': 61, 'place': 62, 'madison': 63, 'ironman': 64, 'friendli': 65, 'kind': 66, 'staff': 67, 'what': 68, 'should': 69, 'hilari': 70, 'yummi': 71, 'christma': 72, 'eve': 73, 'dinner': 74, 'rememb': 75, 'biggest': 76, 'fail': 77, 'entir': 78, 'trip': 79, 'us': 80, 'terribl': 81, 'manag': 82, 'thoroughli': 83, 'disappoint': 84, 'hell': 85, 'will': 86, 'never': 87, 'ever': 88, 'would': 89, 'save': 90, 'room': 91, 'select': 92, 'probabl': 93, 'worst': 94, 'seen': 95, 'vega': 96, 'none': 97, 'deal': 98, 'includ': 99, 'tast': 100, 'drink': 101, 'jeff': 102, 'went': 103, 'beyond': 104, 'expect': 105, 'hard': 106, 'mess': 107, 'steak': 108, 'much': 109, 'pasta': 110, 'homemad': 111, 'hand': 112, 'made': 113, 'thin': 114, 'pizza': 115, 'ambianc': 116, 'like': 117, 'buffet': 118, 'douchey': 119, 'indoor': 120, 'garden': 121, 'tea': 122, 'biscuit': 123, 'some': 124, 'qualiti': 125, 'nigiri': 126, 'give': 127, 'tri': 128, 'happi': 129, 'there': 130, 'realli': 131, 'noth': 132, 'postino': 133, 'hope': 134, 'experi': 135, 'better': 136, 'my': 137, 'bland': 138, 'vinegrett': 139, 'babi': 140, 'green': 141, 'heart': 142, 'palm': 143, 'boyfriend': 144, 'sat': 145, 'bar': 146, 'complet': 147, 'delight': 148, 'food': 149, 'delici': 150, 'bartend': 151, 'attent': 152, 'person': 153, 'and': 154, 'got': 155, 'each': 156, 'day': 157, 'week': 158, 'differ': 159, 'seafood': 160, 'string': 161, 'bottom': 162, 'mayb': 163, 'vegetarian': 164, 'fare': 165, 'twice': 166, 'thought': 167, 'averag': 168, 'best': 169, 'mediterranean': 170, 'chicken': 171, 'fell': 172, 'breakfast': 173, 'hurri': 174, 'spici': 175, 'enough': 176, 'sure': 177, 'ask': 178, 'spicier': 179, 'prefer': 180, 'way': 181, 'thumb': 182, 'up': 183, 'typic': 184, 'incred': 185, 'dine': 186, 'anytim': 187, 'soon': 188, 'stick': 189, 'around': 190, 'if': 191, 'bad': 192, 'enjoy': 193, 'world': 194, 'annoy': 195, 'drunk': 196, 'peopl': 197, 'needless': 198, 'say': 199, 'sorri': 200, 'get': 201, 'side': 202, 'delish': 203, 'mix': 204, 'mushroom': 205, 'yukon': 206, 'gold': 207, 'pure': 208, 'white': 209, 'corn': 210, 'beateou': 211, 'think': 212, 'flavor': 213, 'textur': 214, 'lack': 215, 'town': 216, 'price': 217, 'cannot': 218, 'beat': 219, 'space': 220, 'tini': 221, 'elegantli': 222, 'decor': 223, 'comfort': 224, 'then': 225, 'came': 226, 'ensu': 227, 'lobster': 228, 'bisqu': 229, 'bussel': 230, 'sprout': 231, 'risotto': 232, 'filet': 233, 'need': 234, 'salt': 235, 'pepper': 236, 'cours': 237, 'must': 238, 'night': 239, 'liter': 240, 'one': 241, 'order': 242, 'home': 243, 'driest': 244, 'damn': 245, 'ha': 246, 'long': 247, 'bay': 248, 'bit': 249, 'flop': 250, 'awesom': 251, 'even': 252, 'empti': 253, 'also': 254, 'nice': 255, 'build': 256, 'seem': 257, 'pretti': 258, 'neat': 259, 'bathroom': 260, 'trippi': 261, 'eat': 262, 'guess': 263, 'disgrac': 264, 'penn': 265, 'vodka': 266, 'hawaiian': 267, 'breez': 268, 'mango': 269, 'magic': 270, 'pineappl': 271, 'smoothi': 272, 'far': 273, 'check': 274, 'thi': 275, 'honestli': 276, 'blown': 277, 'panna': 278, 'cotta': 279, 'amaz': 280, 'assur': 281, 'longer': 282, 'arepa': 283, 'come': 284, 'experienc': 285, 'underwhelm': 286, 'relationship': 287, 'parti': 288, 'beer': 289, 'start': 290, 'tuna': 291, 'sashimi': 292, 'brownish': 293, 'color': 294, 'obvious': 295, 'fresh': 296, 'reason': 297, 'both': 298, 'truli': 299, 'unbeliev': 300, 'glad': 301, 'gyro': 302, 'basic': 303, 'lettuc': 304, 'won': 305, 'for': 306, 'self': 307, 'proclaim': 308, 'coffe': 309, 'cafe': 310, 'wildli': 311, 'except': 312, 'review': 313, 'live': 314, 'sinc': 315, 'first': 316, 'last': 317, 'time': 318, 'step': 319, 'foot': 320, 'disgust': 321, 'human': 322, 'hair': 323, 'mention': 324, 'combin': 325, 'pear': 326, 'almond': 327, 'bacon': 328, 'big': 329, 'winner': 330, 'lost': 331, 'finish': 332, 'right': 333, 'amount': 334, 'sauc': 335, 'power': 336, 'scallop': 337, 'perfectli': 338, 'cook': 339, 'lunch': 340, 'madhous': 341, 'phoenix': 342, 'metro': 343, 'warm': 344, 'felt': 345, 'guest': 346, 'special': 347, 'treat': 348, 'on': 349, 'ground': 350, 'next': 351, 'larg': 352, 'smear': 353, 'track': 354, 'everywher': 355, 'pile': 356, 'bird': 357, 'poop': 358, 'sun': 359, 'wife': 360, 'soup': 361, 'lukewarm': 362, 'they': 363, 'want': 364, 'make': 365, 'lemon': 366, 'raspberri': 367, 'cocktail': 368, 'crawfish': 369, 'bargain': 370, 'second': 371, 'decid': 372, 'huge': 373, 'awkward': 374, 'piec': 375, 'cow': 376, '/': 377, 'gristl': 378, 'fat': 379, '.': 380, 'two': 381, 'star': 382, 'edit': 383, 'drag': 384, 'establish': 385, 'cold': 386, 'somewhat': 387, 'edibl': 388, 'ya': 389, 'clean': 390, 'mistak': 391, 'that': 392, 'scream': 393, 'legit': 394, 'book': 395, 'somethat': 396, 'rare': 397, 'bite': 398, 'refus': 399, 'anymor': 400, 'group': 401, '+': 402, 'claim': 403, 'handl': 404, 'horribl': 405, 'overpr': 406, 'burger': 407, 'standard': 408, '17': 409, 'appar': 410, 'heard': 411, 'batter': 412, 'fish': 413, 'chewi': 414, 'chip': 415, 'drip': 416, 'greas': 417, 'mostli': 418, 'fo': 419, 'these': 420, 'anyway': 421, 'definit': 422, 'fill': 423, 'pay': 424, 'spot': 425, 'but': 426, 'spend': 427, 'money': 428, 'elsewher': 429, 'at': 430, 'least': 431, 'pass': 432, 'arriv': 433, 'an': 434, 'hour': 435, 'serious': 436, 'outstand': 437, 'littl': 438, 'nicest': 439, 'chines': 440, 'do': 441, 'favor': 442, 'stay': 443, 'away': 444, 'dish': 445, 'nasti': 446, 'locat': 447, 'dirti': 448, 'cover': 449, 'replenish': 450, 'plain': 451, 'yucki': 452, 'turn': 453, 'doubt': 454, 'someon': 455, 'els': 456, 'buy': 457, 'bbq': 458, 'lighter': 459, 'tell': 460, 'public': 461, 'old': 462, 'sushi': 463, 'besid': 464, 'costco': 465, 'a': 466, 'fantast': 467, 'neighborhood': 468, 'gem': 469, 'favorit': 470, 'shawarrrrrrma': 471, 'wast': 472, 'so': 473, 'absolutley': 474, 'ian': 475, 'deserv': 476, '%': 477, 'impress': 478, 'strip': 479, 'now': 480, 'angri': 481, 'pho': 482, 'pleas': 483, 'atmospher': 484, 'took': 485, 'min': 486, 'milkshak': 487, 'chocol': 488, 'milk': 489, 'said': 490, 'everi': 491, 'mouth': 492, 'relax': 493, 'venu': 494, 'coupl': 495, 'small': 496, 'famili': 497, 'etc': 498, 'as': 499, 'alway': 500, 'wonder': 501, 'nargil': 502, 'help': 503, 'conclus': 504, 'meal': 505, 'today': 506, 'buldogi': 507, 'gourmet': 508, 'hot': 509, 'dog': 510, 'possibl': 511, 'mussel': 512, 'wine': 513, 'reduct': 514, 'duck': 515, 'tender': 516, 'potato': 517, 'wide': 518, 'array': 519, 'option': 520, 'choos': 521, 'rice': 522, 'dri': 523, 'well': 524, 'grill': 525, 'remind': 526, 'italian': 527, 'in': 528, 'summer': 529, 'charm': 530, 'outdoor': 531, 'patio': 532, 'gotten': 533, 'door': 534, 'receiv': 535, 'thank': 536, 'dylan': 537, 't': 538, 'tummi': 539, 'super': 540, 'especi': 541, 'cool': 542, 'bring': 543, 'boy': 544, 'jewel': 545, 'la': 546, 'exactli': 547, 'find': 548, 'nearli': 549, 'ten': 550, 'year': 551, 'albondiga': 552, 'tomato': 553, 'frozen': 554, 'meatbal': 555, 'join': 556, 'club': 557, 'offer': 558, 'via': 559, 'email': 560, 'stink': 561, 'look': 562, 'sound': 563, 'actual': 564, 'rip': 565, 'banana': 566, 'petrifi': 567, 'tasteless': 568, 'shrimp': 569, 'stir': 570, 'noodl': 571, 'suck': 572, 'could': 573, 'imagin': 574, 'highli': 575, 'handmad': 576, 'server': 577, 'neglig': 578, 'unwelcom': 579, 'suggest': 580, 'bore': 581, 'waitress': 582, 'accomod': 583, 'vegan': 584, 'veggi': 585, 'promptli': 586, 'greet': 587, 'those': 588, 'their': 589, 'close': 590, 'hous': 591, 'low': 592, 'key': 593, 'non': 594, 'fanci': 595, 'afford': 596, 'lot': 597, 'worker': 598, 'forti': 599, 'five': 600, 'vain': 601, 'no': 602, 'allergi': 603, 'warn': 604, 'absolut': 605, 'clue': 606, 'contain': 607, 'peanut': 608, 'omg': 609, 'delicioso': 610, 'pace': 611, 'rather': 612, 'airlin': 613, 'salsa': 614, 'bought': 615, 'egg': 616, 'roll': 617, 'sad': 618, 'count': 619, 'mani': 620, 'box': 621, 'husband': 622, 'rude': 623, 'apolog': 624, 'anyth': 625, 'thing': 626, 'wrong': 627, '-': 628, 'burn': 629, 'saganaki': 630, 'given': 631, 'godfath': 632, 'zero': 633, 'divers': 634, 'whenev': 635, 'invit': 636, 'opportun': 637, 'sampl': 638, 'golden': 639, 'crispi': 640, 'rich': 641, 'accordingli': 642, 'spring': 643, 'oh': 644, 'ago': 645, 'pale': 646, 'instead': 647, 'char': 648, 'sunday': 649, 'compani': 650, 'overal': 651, 'drive': 652, 'north': 653, 'scottsdal': 654, 'tragedi': 655, 'struck': 656, 'of': 657, 'salmon': 658, 'scene': 659, 'buck': 660, 'head': 661, 'wonton': 662, 'thick': 663, 'almost': 664, 'melt': 665, 'third': 666, 'chees': 667, 'friend': 668, 'whole': 669, 'ninja': 670, 'you': 671, 'run': 672, 'carli': 673, 'thai': 674, 'onc': 675, 'insid': 676, 'rock': 677, 'casino': 678, 'forward': 679, 'again': 680, 'greedi': 681, 'corpor': 682, 'anoth': 683, 'dime': 684, 'satifi': 685, 'owner': 686, 'chef': 687, 'authent': 688, 'japanes': 689, 'dude': 690, 'cant': 691, 'cheat': 692, 'waiter': 693, 'kept': 694, 'bloddi': 695, 'mari': 696, 'veggitarian': 697, 'platter': 698, 'mandalay': 699, 'music': 700, 'friday': 701, 'total': 702, 'blow': 703, 'crema': 704, 'café': 705, 'expand': 706, 'told': 707, 'immedi': 708, 'pissd': 709, 'avoid': 710, 'mirag': 711, 'month': 712, 'later': 713, 'return': 714, 'your': 715, 'talk': 716, 'solid': 717, 'worth': 718, 'let': 719, 'alon': 720, 'don': 721, 'final': 722, 'gave': 723, 'when': 724, 'mom': 725, 'sick': 726, 'job': 727, 'rowdi': 728, 'note': 729, 'ventil': 730, 'use': 731, 'upgrad': 732, 'real': 733, 'lover': 734, 'honest': 735, 'yama': 736, 'perfect': 737, 'sooooo': 738, 'to': 739, 'disbelief': 740, 'qualifi': 741, 'version': 742, 'classic': 743, 'main': 744, 'doubl': 745, 'cheeseburg': 746, 'singl': 747, 'patti': 748, 'fall': 749, 'apart': 750, 'pictur': 751, 'upload': 752, 'yeah': 753, 'still': 754, 'new': 755, 'sore': 756, 'everyth': 757, 'watch': 758, 'ignor': 759, 'par': 760, 'denni': 761, 'inconsider': 762, 'nacho': 763, 'have': 764, 'guy': 765, 'shot': 766, 'firebal': 767, 'behind': 768, 'without': 769, 'perform': 770, 'pleasur': 771, 'he': 772, 'realiz': 773, 'sunglass': 774, 'equal': 775, 'han': 776, 'nan': 777, 'gross': 778, 'wors': 779, 'offici': 780, 'done': 781, 'after': 782, 'greatest': 783, 'mood': 784, 'atroci': 785, 'serv': 786, 'bread': 787, 'butter': 788, 'top': 789, 'origin': 790, 'quick': 791, 'crazi': 792, 'crowd': 793, 'downtown': 794, 'juri': 795, 'lawyer': 796, 'court': 797, 'appetit': 798, 'instantli': 799, 'gone': 800, 'goat': 801, 'taco': 802, 'skimp': 803, 'meat': 804, 'wow': 805, 'exceed': 806, 'dream': 807, 'slow': 808, 'posit': 809, 'provid': 810, 'trim': 811, 'conveni': 812, 'mgm': 813, 'brunch': 814, 'found': 815, 'six': 816, 'inch': 817, 'wire': 818, 'refil': 819, 'water': 820, 'struggl': 821, 'wave': 822, 'hungri': 823, 'leav': 824, 'stuf': 825, 'serivc': 826, 'ampl': 827, 'portion': 828, 'forev': 829, 'thu': 830, 'visit': 831, 'known': 832, 'excalibur': 833, 'common': 834, 'sens': 835, 'dont': 836, 'martini': 837, 'despit': 838, 'rate': 839, 'defin': 840, 'be': 841, 'pack': 842, 'tiramisu': 843, 'cannoli': 844, 'die': 845, 'bu': 846, 'compliment': 847, 'unwrap': 848, 'mile': 849, 'brushfir': 850, 'by': 851, 'excus': 852, 'weak': 853, 'across': 854, 'four': 855, 'blue': 856, 'shirt': 857, 'vibe': 858, 'walk': 859, 'smell': 860, 'trap': 861, 'other': 862, 'flavour': 863, 'care': 864, 'less': 865, 'interior': 866, 'pancak': 867, 'gooodd': 868, 'poorli': 869, 'construct': 870, 'ambienc': 871, 'our': 872, 'inform': 873, 'ventur': 874, 'pork': 875, 'belli': 876, 'fact': 877, 'teamwork': 878, 'profession': 879, 'degre': 880, 'rge': 881, 'fillet': 882, 'relleno': 883, 'plate': 884, 'vanilla': 885, 'creami': 886, 'smooth': 887, 'profiterol': 888, 'choux': 889, 'pastri': 890, 'temp': 891, 'prepar': 892, 'bare': 893, 'glove': 894, 'deep': 895, 'oil': 896, 'dirt': 897, 'vomit': 898, 'mid': 899, 'impecc': 900, 'cut': 901, 'airport': 902, 'speedi': 903, 'tucson': 904, 'howev': 905, 'recent': 906, 'particular': 907, 'might': 908, 'frenchman': 909, 'light': 910, 'dark': 911, 'uninspir': 912, 'three': 913, 'occas': 914, 'medium': 915, 'bloodiest': 916, 'subway': 917, 'meet': 918, 'tradit': 919, 'hunan': 920, 'style': 921, 'frustrat': 922, 'hi': 923, 'fair': 924, 'mac': 925, 'just': 926, 'ri': 927, 'calamari': 928, 'joke': 929, 'fuck': 930, 'sandwich': 931, 'whi': 932, 'veget': 933, 'overcook': 934, 'account': 935, 'screw': 936, 'crepe': 937, 'station': 938, 'rave': 939, 'mediocr': 940, 'onli': 941, 'pro': 942, 'simpl': 943, 'brick': 944, 'oven': 945, 'dough': 946, 'perpar': 947, 'present': 948, 'giant': 949, 'slice': 950, 'toast': 951, 'lightli': 952, 'dust': 953, 'powder': 954, 'sugar': 955, 'interest': 956, 'plethora': 957, 'seal': 958, 'approv': 959, 'surpris': 960, 'gener': 961, 'ladi': 962, 'caterpillar': 963, 'del': 964, 'send': 965, 'verg': 966, 'attack': 967, 'pleasant': 968, 'honor': 969, 'hut': 970, 'coupon': 971, 'bachi': 972, 'cute': 973, 'base': 974, 'sub': 975, 'effort': 976, 'show': 977, 'gratitud': 978, 'bye': 979, 'tip': 980, 'dollar': 981, 'aw': 982, 'summar': 983, 'nay': 984, 'transcend': 985, 'joy': 986, 'memori': 987, 'pneumat': 988, 'condiment': 989, 'dispens': 990, 'consid': 991, 'crystal': 992, 'shop': 993, 'mall': 994, 'aria': 995, 'sweet': 996, 'tot': 997, 'onion': 998, 'ring': 999, 'chow': 1000, 'mein': 1001, 'had': 1002, 'happen': 1003, 'bruschetta': 1004, 'devin': 1005, 'furthermor': 1006, 'oper': 1007, 'websit': 1008, 'crisp': 1009, 'thru': 1010, 'mean': 1011, 'half': 1012, 'somehow': 1013, 'end': 1014, 'colleg': 1015, 'high': 1016, 'class': 1017, 'jalapeno': 1018, 'soooo': 1019, 'parent': 1020, 'similar': 1021, 'complaint': 1022, 'silent': 1023, 'fun': 1024, 'extens': 1025, 'stranger': 1026, 'quickli': 1027, 'bing': 1028, 'carb': 1029, 'stomach': 1030, 'multi': 1031, 'grain': 1032, 'pumpkin': 1033, 'pecan': 1034, 'fluffi': 1035, 'ad': 1036, 'gratuiti': 1037, 'bill': 1038, 'larger': 1039, ',': 1040, 'play': 1041, 'crouton': 1042, 'extra': 1043, 'plu': 1044, '4': 1045, '00': 1046, 'blanket': 1047, 'moz': 1048, 'subpar': 1049, 'late': 1050, 'may': 1051, 'bank': 1052, 'holiday': 1053, 'rick': 1054, 'steve': 1055, 'poor': 1056, 'stupid': 1057, 'brother': 1058, 'law': 1059, 'work': 1060, 'ate': 1061, 'strang': 1062, 'rubber': 1063, 'ahead': 1064, 'warmer': 1065, 'macaron': 1066, 'insan': 1067, 'fine': 1068, 'hummu': 1069, 'pita': 1070, 'baklava': 1071, 'falafel': 1072, 'baba': 1073, 'ganoush': 1074, 'eggplant': 1075, 'she': 1076, 'english': 1077, 'muffin': 1078, 'untoast': 1079, 'sport': 1080, 'event': 1081, 'wall': 1082, 'tv': 1083, 'classi': 1084, 'appet': 1085, 'succul': 1086, 'basebal': 1087, 'effici': 1088, 'stretch': 1089, 'tartar': 1090, 'recal': 1091, 'charg': 1092, 'tap': 1093, 'roast': 1094, 'beef': 1095, 'yellow': 1096, 'saffron': 1097, 'season': 1098, 'steiner': 1099, 'humili': 1100, 'bunch': 1101, 'name': 1102, 'call': 1103, 'doughi': 1104, 'flavorless': 1105, 'moist': 1106, 'believ': 1107, 'hanker': 1108, 'tigerlilli': 1109, 'afternoon': 1110, 'chain': 1111, 'fan': 1112, 'easili': 1113, 'custom': 1114, 'hiro': 1115, 'someth': 1116, 'healthi': 1117, 'ani': 1118, 'grandmoth': 1119, 'joint': 1120, 'nutshel': 1121, '1': 1122, 'restaraunt': 1123, 'market': 1124, 'sewer': 1125, 'befor': 1126, 'write': 1127, 'continu': 1128, 'andddd': 1129, 'date': 1130, 'anyon': 1131, 'girlfriend': 1132, 'veal': 1133, 'desir': 1134, 'weekli': 1135, 'haunt': 1136, 'red': 1137, 'curri': 1138, 'bamboo': 1139, 'shoot': 1140, 'unprofession': 1141, 'loyal': 1142, 'patron': 1143, 'crust': 1144, 'downsid': 1145, 'fli': 1146, 'appl': 1147, 'juic': 1148, 'crumbi': 1149, 'judg': 1150, 'whether': 1151, 'styrofoam': 1152, 'fear': 1153, 'bellagio': 1154, 'anticip': 1155, 'puck': 1156, 'regist': 1157, 'attach': 1158, 'ga': 1159, 'sign': 1160, 'chipolt': 1161, 'ranch': 1162, 'dip': 1163, 'saus': 1164, 'heat': 1165, 'swung': 1166, 'deepli': 1167, 'soggi': 1168, 'ratio': 1169, 'unsatisfi': 1170, 'pull': 1171, 'host': 1172, 'word': 1173, 'bitch': 1174, 'bother': 1175, 'voodoo': 1176, 'gluten': 1177, 'free': 1178, 'sever': 1179, 'eaten': 1180, 'multipl': 1181, 'drop': 1182, 'ball': 1183, 'sit': 1184, 'togeth': 1185, 'open': 1186, 'list': 1187, 'over': 1188, 'meh': 1189, 'simpli': 1190, 'regular': 1191, 'occasion': 1192, 'pat': 1193, 'mmmm': 1194, 'employe': 1195, 'ok': 1196, 'greek': 1197, 'dress': 1198, 'refresh': 1199, 'cheesecurd': 1200, 'charcoal': 1201, 'unfortun': 1202, 'flat': 1203, 'which': 1204, 'greasi': 1205, 'unhealthi': 1206, 'hardli': 1207, 'how': 1208, 'strawberri': 1209, 'googl': 1210, 'smashburg': 1211, 'pop': 1212, 'stale': 1213, 'mortifi': 1214, 'fruit': 1215, 'peach': 1216, 'nobu': 1217, 'mexican': 1218, 'yet': 1219, 'valu': 1220, 'concept': 1221, 'caesar': 1222, 'older': 1223, 'boot': 1224, 'worri': 1225, 'stuff': 1226, 'blandest': 1227, 'indian': 1228, 'cuisin': 1229, 'hit': 1230, '7': 1231, '85': 1232, 'kid': 1233, 'wienerschnitzel': 1234, 'idea': 1235, 'luke': 1236, 'overwhelm': 1237, 'famou': 1238, 'ethic': 1239, 'spinach': 1240, 'avocado': 1241, 'ingredi': 1242, 'caus': 1243, 'own': 1244, 'insult': 1245, 'disrespect': 1246, 'kabuki': 1247, 'hip': 1248, 'undercook': 1249, 'fairli': 1250, 'fast': 1251, 'bagel': 1252, 'groceri': 1253, 'store': 1254, 'teeth': 1255, 'reloc': 1256, 'hate': 1257, 'disagre': 1258, 'fellow': 1259, 'yelper': 1260, 'hardest': 1261, 'decis': 1262, 'm': 1263, 'suppos': 1264, 'velvet': 1265, 'cake': 1266, 'ohhh': 1267, 'san': 1268, 'francisco': 1269, 'eclect': 1270, 'bowl': 1271, 'dedic': 1272, 'boba': 1273, 'jenni': 1274, 'redeem': 1275, 'inexpens': 1276, 'movi': 1277, 'number': 1278, 'crostini': 1279, 'usual': 1280, 'soooooo': 1281, 'cheap': 1282, 'wrap': 1283, 'freak': 1284, 'paper': 1285, 'brisket': 1286, 'promis': 1287, 'gringo': 1288, 'paid': 1289, '35': 1290, 'plater': 1291, 'piano': 1292, 'soundtrack': 1293, 'appal': 1294, 'theft': 1295, 'strike': 1296, 'rush': 1297, 'monster': 1298, 'touch': 1299, 'unexperienc': 1300, 'acknowledg': 1301, 'cashier': 1302, 'brought': 1303, 'ribey': 1304, 'mesquit': 1305, 'either': 1306, 'circumst': 1307, 'app': 1308, 'life': 1309, 'miss': 1310, 'blame': 1311, 'combo': 1312, 'decent': 1313, 'fav': 1314, 'calligraphi': 1315, 'duo': 1316, 'violinist': 1317, 'song': 1318, 'request': 1319, 'accid': 1320, 'happier': 1321, 'outshin': 1322, 'halibut': 1323, 'tater': 1324, 'southwest': 1325, 'quantiti': 1326, 'poison': 1327, 'level': 1328, 'spice': 1329, 'whelm': 1330, 'yellowtail': 1331, 'carpaccio': 1332, 'caballero': 1333, 'margarita': 1334, 'sugari': 1335, 'freez': 1336, 'put': 1337, 'plastic': 1338, 'oppos': 1339, 'cram': 1340, 'takeout': 1341, 'expens': 1342, 'descript': 1343, 'yum': 1344, 'eel': 1345, 'mayo': 1346, 'glanc': 1347, 'bakeri': 1348, 'honeslti': 1349, 'same': 1350, 'drastic': 1351, 'shoe': 1352, 'leather': 1353, 'plantain': 1354, 'hook': 1355, 'opinion': 1356, 'entre': 1357, 'gc': 1358}\n"
          ],
          "name": "stdout"
        }
      ]
    },
    {
      "cell_type": "code",
      "metadata": {
        "id": "o3pHwIpWrv2h"
      },
      "source": [
        "X_train1 = np.full((X_train.size,1319),0,int)\n",
        "i = 0\n",
        "for d in X_train:\n",
        "  d = d.split(' ')\n",
        "  for w in d:\n",
        "    try:\n",
        "      X_train1[i][train_dict[w]] += 1\n",
        "    except:\n",
        "      pass\n",
        "  i+=1"
      ],
      "execution_count": null,
      "outputs": []
    },
    {
      "cell_type": "code",
      "metadata": {
        "id": "bXPzXUHftMyd",
        "colab": {
          "base_uri": "https://localhost:8080/"
        },
        "outputId": "14a87e18-131b-4e5d-ed6d-574d38184204"
      },
      "source": [
        "X_train1"
      ],
      "execution_count": null,
      "outputs": [
        {
          "output_type": "execute_result",
          "data": {
            "text/plain": [
              "array([[1, 1, 1, ..., 0, 0, 0],\n",
              "       [1, 0, 0, ..., 0, 0, 0],\n",
              "       [0, 0, 0, ..., 0, 0, 0],\n",
              "       ...,\n",
              "       [1, 0, 0, ..., 0, 0, 0],\n",
              "       [1, 0, 0, ..., 0, 0, 0],\n",
              "       [2, 0, 0, ..., 0, 0, 0]])"
            ]
          },
          "metadata": {
            "tags": []
          },
          "execution_count": 13
        }
      ]
    },
    {
      "cell_type": "code",
      "metadata": {
        "id": "A0_7Ssg9v6XG",
        "colab": {
          "base_uri": "https://localhost:8080/"
        },
        "outputId": "652b9457-6e4f-4607-8e7d-abf563955e11"
      },
      "source": [
        "clf = MNB(alpha=1)\n",
        "clf.fit(X_train1, y_train)"
      ],
      "execution_count": null,
      "outputs": [
        {
          "output_type": "execute_result",
          "data": {
            "text/plain": [
              "MultinomialNB(alpha=1, class_prior=None, fit_prior=True)"
            ]
          },
          "metadata": {
            "tags": []
          },
          "execution_count": 14
        }
      ]
    },
    {
      "cell_type": "code",
      "metadata": {
        "id": "6hePio0V21_G"
      },
      "source": [
        "X_test1 = np.full((X_test.size,1319),0,int)\n",
        "i = 0\n",
        "for d in X_test:\n",
        "  d = d.split(' ')\n",
        "  for w in d:\n",
        "    try:\n",
        "      X_test1[i][train_dict[w]] += 1\n",
        "    except:\n",
        "      pass\n",
        "  i+=1"
      ],
      "execution_count": null,
      "outputs": []
    },
    {
      "cell_type": "code",
      "metadata": {
        "id": "v7Ms508k3L0A",
        "colab": {
          "base_uri": "https://localhost:8080/"
        },
        "outputId": "058397e3-0e19-4c1f-f90f-6812ae86e536"
      },
      "source": [
        "y_pred = clf.predict(X_test1)\n",
        "accuracy_score(y_test, y_pred)"
      ],
      "execution_count": null,
      "outputs": [
        {
          "output_type": "execute_result",
          "data": {
            "text/plain": [
              "0.8033333333333333"
            ]
          },
          "metadata": {
            "tags": []
          },
          "execution_count": 17
        }
      ]
    },
    {
      "cell_type": "code",
      "metadata": {
        "id": "43P23mKV4GI2"
      },
      "source": [
        "print(np.concatenate((y_pred.reshape(len(y_pred),1), y_test.reshape(len(y_test),1)),1))"
      ],
      "execution_count": null,
      "outputs": []
    },
    {
      "cell_type": "code",
      "metadata": {
        "id": "OJ8y565e3WNP",
        "colab": {
          "base_uri": "https://localhost:8080/"
        },
        "outputId": "a47515f2-fe49-4785-c202-50650578a2bb"
      },
      "source": [
        "y_pred1 = clf.predict(X_train1)\n",
        "accuracy_score(y_train, y_pred1)"
      ],
      "execution_count": null,
      "outputs": [
        {
          "output_type": "execute_result",
          "data": {
            "text/plain": [
              "0.9442857142857143"
            ]
          },
          "metadata": {
            "tags": []
          },
          "execution_count": 18
        }
      ]
    },
    {
      "cell_type": "code",
      "metadata": {
        "id": "GsZU2_yXcxXA"
      },
      "source": [
        ""
      ],
      "execution_count": null,
      "outputs": []
    }
  ]
}