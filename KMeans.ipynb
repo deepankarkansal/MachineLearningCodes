{
  "nbformat": 4,
  "nbformat_minor": 0,
  "metadata": {
    "colab": {
      "name": "KMeans.ipynb",
      "provenance": [],
      "collapsed_sections": []
    },
    "kernelspec": {
      "name": "python3",
      "display_name": "Python 3"
    }
  },
  "cells": [
    {
      "cell_type": "code",
      "metadata": {
        "id": "a7r7G1E7iISk"
      },
      "source": [
        "import numpy as np\n",
        "import pandas as pd\n",
        "import seaborn as sn\n",
        "import math\n",
        "import matplotlib.pyplot as plt\n",
        "from scipy.io import loadmat\n",
        "import seaborn as sn\n",
        "import joblib\n",
        "import cv2 as cv\n",
        "from sklearn.svm import SVC\n",
        "from sklearn.manifold import TSNE\n",
        "from matplotlib import colors as cma\n",
        "import pickle\n",
        "from sklearn.metrics import accuracy_score\n",
        "from sklearn.model_selection import GridSearchCV\n",
        "from skimage.color import rgb2gray\n",
        "from sklearn.decomposition import PCA\n",
        "from sklearn.preprocessing import StandardScaler\n",
        "import time\n",
        "from sklearn import datasets\n",
        "from sklearn.cluster import KMeans"
      ],
      "execution_count": null,
      "outputs": []
    },
    {
      "cell_type": "code",
      "metadata": {
        "id": "ncxkOCPbjD_q"
      },
      "source": [
        "iris = datasets.load_iris()"
      ],
      "execution_count": null,
      "outputs": []
    },
    {
      "cell_type": "code",
      "metadata": {
        "id": "uZkdiMeUjHOZ"
      },
      "source": [
        "samples = iris.data[:,:]\n",
        "labels = iris.target"
      ],
      "execution_count": null,
      "outputs": []
    },
    {
      "cell_type": "code",
      "metadata": {
        "id": "SuMEfNFGsx5E",
        "colab": {
          "base_uri": "https://localhost:8080/"
        },
        "outputId": "5ee919c4-8254-48c6-c81e-ab22348887cd"
      },
      "source": [
        "iris.feature_names"
      ],
      "execution_count": null,
      "outputs": [
        {
          "output_type": "execute_result",
          "data": {
            "text/plain": [
              "['sepal length (cm)',\n",
              " 'sepal width (cm)',\n",
              " 'petal length (cm)',\n",
              " 'petal width (cm)']"
            ]
          },
          "metadata": {
            "tags": []
          },
          "execution_count": 4
        }
      ]
    },
    {
      "cell_type": "code",
      "metadata": {
        "id": "bnJkw-p_kxMS"
      },
      "source": [
        "df = pd.DataFrame(samples)\n",
        "df[4] = labels\n",
        "df = df.sample(frac = 1, random_state=62)\n",
        "samples = df.iloc[:,:-1].values\n",
        "labels = df.iloc[:,-1].values"
      ],
      "execution_count": null,
      "outputs": []
    },
    {
      "cell_type": "code",
      "metadata": {
        "id": "WCU7s7bwjeg5",
        "colab": {
          "base_uri": "https://localhost:8080/"
        },
        "outputId": "ba2f4d36-dbd7-40f6-9120-e343f59b65f0"
      },
      "source": [
        "print(samples.shape, labels.shape)"
      ],
      "execution_count": null,
      "outputs": [
        {
          "output_type": "stream",
          "text": [
            "(150, 4) (150,)\n"
          ],
          "name": "stdout"
        }
      ]
    },
    {
      "cell_type": "code",
      "metadata": {
        "id": "JHWafkcJliXY"
      },
      "source": [
        "def splitting(X,y,test_size):\n",
        "    size = y.size\n",
        "    train_size = int (size*(1-test_size))\n",
        "    X_train = X[:train_size,:]\n",
        "    X_test = X[train_size:,:]\n",
        "    y_train = y[:train_size]\n",
        "    y_test = y[train_size:]\n",
        "\n",
        "    return X_train, X_test, y_train, y_test"
      ],
      "execution_count": null,
      "outputs": []
    },
    {
      "cell_type": "code",
      "metadata": {
        "id": "voj8i3q4lvmv"
      },
      "source": [
        "X_train, X_test, y_train, y_test = splitting(samples, labels, 0.3)"
      ],
      "execution_count": null,
      "outputs": []
    },
    {
      "cell_type": "markdown",
      "metadata": {
        "id": "_SrZB9W_m31g"
      },
      "source": [
        "# Elbow"
      ]
    },
    {
      "cell_type": "code",
      "metadata": {
        "id": "y7TwMrpSl3t1",
        "colab": {
          "base_uri": "https://localhost:8080/",
          "height": 410
        },
        "outputId": "07a4b0d7-5400-417e-a3be-4517e9a1fcf8"
      },
      "source": [
        "ss = []\n",
        "for i in range(1, 11):\n",
        "    kmeans = KMeans(n_clusters = i)\n",
        "    kmeans.fit(samples)\n",
        "    ss.append(kmeans.inertia_)\n",
        "plt.figure(figsize=(12,6))\n",
        "plt.plot(range(1, 11), ss)\n",
        "plt.title('The Elbow Method',size=16)\n",
        "plt.xlabel('Number of clusters',size=14)\n",
        "plt.ylabel('Sum of Squares(Error)',size=14)\n",
        "plt.show()"
      ],
      "execution_count": null,
      "outputs": [
        {
          "output_type": "display_data",
          "data": {
            "image/png": "[encoded data removed]",
            "text/plain": [
              "<Figure size 864x432 with 1 Axes>"
            ]
          },
          "metadata": {
            "tags": [],
            "needs_background": "light"
          }
        }
      ]
    },
    {
      "cell_type": "markdown",
      "metadata": {
        "id": "a_DAPnOIu6Hy"
      },
      "source": [
        "# Parts 3, 4"
      ]
    },
    {
      "cell_type": "code",
      "metadata": {
        "id": "zjyt-Yt8uy1n"
      },
      "source": [
        "kmeans1 = KMeans(n_clusters = 3, random_state=0)\n",
        "y_kmeans1 = kmeans1.fit_predict(X_train)"
      ],
      "execution_count": null,
      "outputs": []
    },
    {
      "cell_type": "code",
      "metadata": {
        "id": "hIq4lz1rp_6D"
      },
      "source": [
        "def plotting_cluster(X, y_kmeans, kmeans, length, width):\n",
        "  plt.figure(figsize=(6,6))\n",
        "  plt.scatter(X[y_kmeans == 0, length], X[y_kmeans == 0, width], s = 80, c = 'cyan', label = 'Iris Setosa')\n",
        "  plt.scatter(X[y_kmeans == 1, length], X[y_kmeans == 1, width], s = 80, c = 'skyblue', label = 'Iris Versicolour')\n",
        "  plt.scatter(X[y_kmeans == 2, length], X[y_kmeans == 2, width], s = 80, c = 'magenta', label = 'Iris Virginica')\n",
        "\n",
        "  plt.scatter(kmeans.cluster_centers_[:, 0], kmeans.cluster_centers_[:, 1], s = 150, facecolors=\"none\", label = 'Centroids', edgecolors=\"k\")\n",
        "  plt.title('Clusters',size=16)\n",
        "  plt.xlabel('Length',size=14)\n",
        "  plt.ylabel('Width',size=14)\n",
        "  plt.legend()\n",
        "  plt.show()"
      ],
      "execution_count": null,
      "outputs": []
    },
    {
      "cell_type": "code",
      "metadata": {
        "id": "j4_Qo9AAcLP4",
        "colab": {
          "base_uri": "https://localhost:8080/",
          "height": 410
        },
        "outputId": "31e6c5a1-df1c-40a7-dc21-db052d7a1c62"
      },
      "source": [
        "plotting_cluster(X_train, y_kmeans1, kmeans1, 0, 1)"
      ],
      "execution_count": null,
      "outputs": [
        {
          "output_type": "display_data",
          "data": {
            "image/png": "[encoded data removed]",
            "text/plain": [
              "<Figure size 432x432 with 1 Axes>"
            ]
          },
          "metadata": {
            "tags": [],
            "needs_background": "light"
          }
        }
      ]
    },
    {
      "cell_type": "code",
      "metadata": {
        "id": "sUg7SSUQvRBD",
        "colab": {
          "base_uri": "https://localhost:8080/"
        },
        "outputId": "769726d5-8e20-48bd-955a-87d93adc21dc"
      },
      "source": [
        "y_pred = kmeans1.predict(X_test)\n",
        "accuracy_score(y_test, y_pred)"
      ],
      "execution_count": null,
      "outputs": [
        {
          "output_type": "execute_result",
          "data": {
            "text/plain": [
              "0.9111111111111111"
            ]
          },
          "metadata": {
            "tags": []
          },
          "execution_count": 22
        }
      ]
    },
    {
      "cell_type": "code",
      "metadata": {
        "id": "ChKavnHTvWoM",
        "colab": {
          "base_uri": "https://localhost:8080/"
        },
        "outputId": "8c4af126-ce6f-4b2b-8046-5028dee0ce00"
      },
      "source": [
        "y_pred = kmeans1.predict(X_train)\n",
        "accuracy_score(y_train, y_pred)"
      ],
      "execution_count": null,
      "outputs": [
        {
          "output_type": "execute_result",
          "data": {
            "text/plain": [
              "0.8857142857142857"
            ]
          },
          "metadata": {
            "tags": []
          },
          "execution_count": 23
        }
      ]
    },
    {
      "cell_type": "markdown",
      "metadata": {
        "id": "cRtxuXb-uzJ9"
      },
      "source": [
        "# Rough"
      ]
    },
    {
      "cell_type": "code",
      "metadata": {
        "id": "SHaIttVlu3HG"
      },
      "source": [
        "# for i in range(100):\n",
        "#   # print('On',i)\n",
        "#   samples = iris.data[:,:]\n",
        "#   labels = iris.target\n",
        "#   df = pd.DataFrame(samples)\n",
        "#   df[4] = labels\n",
        "#   df = df.sample(frac = 1, random_state=i)\n",
        "#   samples = df.iloc[:,:-1].values\n",
        "#   labels = df.iloc[:,-1].values\n",
        "#   X_train, X_test, y_train, y_test = splitting(samples, labels, 0.3)\n",
        "#   kmeans1 = KMeans(n_clusters = 3, random_state=0)\n",
        "#   y_kmeans1 = kmeans1.fit_predict(X_train)\n",
        "#   ac1 = accuracy_score(y_train,y_kmeans1)\n",
        "  \n",
        "#   y_pred = kmeans1.fit_predict(X_test)\n",
        "#   ac2 = accuracy_score(y_test, y_pred)\n",
        "\n",
        "#   if (ac1 > 0.85 and ac2 > 0.85):\n",
        "#     print(i)\n",
        "#   # print()"
      ],
      "execution_count": null,
      "outputs": []
    }
  ]
}